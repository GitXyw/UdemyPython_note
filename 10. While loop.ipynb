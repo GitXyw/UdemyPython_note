{
 "cells": [
  {
   "cell_type": "markdown",
   "metadata": {},
   "source": [
    "## 1. While Loop"
   ]
  },
  {
   "cell_type": "code",
   "execution_count": 2,
   "metadata": {
    "collapsed": false
   },
   "outputs": [
    {
     "name": "stdout",
     "output_type": "stream",
     "text": [
      "x is currently:  0\n",
      "x is still less than 10, adding 1 to x\n",
      "x is currently:  1\n",
      "x is still less than 10, adding 1 to x\n",
      "x is currently:  2\n",
      "x is still less than 10, adding 1 to x\n",
      "x is currently:  3\n",
      "x is still less than 10, adding 1 to x\n",
      "x is currently:  4\n",
      "x is still less than 10, adding 1 to x\n",
      "x is currently:  5\n",
      "x is still less than 10, adding 1 to x\n",
      "x is currently:  6\n",
      "x is still less than 10, adding 1 to x\n",
      "x is currently:  7\n",
      "x is still less than 10, adding 1 to x\n",
      "x is currently:  8\n",
      "x is still less than 10, adding 1 to x\n",
      "x is currently:  9\n",
      "x is still less than 10, adding 1 to x\n",
      "all done\n"
     ]
    }
   ],
   "source": [
    "x = 0\n",
    "while x < 10:\n",
    "    print 'x is currently: ', x\n",
    "    print 'x is still less than 10, adding 1 to x'\n",
    "    x += 1\n",
    "else:\n",
    "    print 'all done'"
   ]
  },
  {
   "cell_type": "markdown",
   "metadata": {},
   "source": [
    "## 2. Break, Continue, Pass"
   ]
  },
  {
   "cell_type": "markdown",
   "metadata": {},
   "source": [
    "We can use break, continue, and pass statements in our loops to add additional functionality for various cases. The three statements are defined by:"
   ]
  },
  {
   "cell_type": "raw",
   "metadata": {},
   "source": [
    "break: Breaks out of the current closest enclosing loop.\n",
    "continue: Goes to the top of the closest enclosing loop.\n",
    "pass: Does nothing at all."
   ]
  },
  {
   "cell_type": "code",
   "execution_count": 2,
   "metadata": {
    "collapsed": false
   },
   "outputs": [
    {
     "name": "stdout",
     "output_type": "stream",
     "text": [
      "a is currently:  0\n",
      "a is still less than 10, adding 1 to a\n",
      "continuing\n",
      "a is currently:  1\n",
      "a is still less than 10, adding 1 to a\n",
      "continuing\n",
      "a is currently:  2\n",
      "a is still less than 10, adding 1 to a\n",
      "continuing\n",
      "a is currently:  3\n",
      "a is still less than 10, adding 1 to a\n",
      "continuing\n",
      "a is currently:  4\n",
      "a is still less than 10, adding 1 to a\n",
      "continuing\n",
      "a is currently:  5\n",
      "a is still less than 10, adding 1 to a\n",
      "a == 6\n",
      "a is currently:  6\n",
      "a is still less than 10, adding 1 to a\n",
      "continuing\n",
      "a is currently:  7\n",
      "a is still less than 10, adding 1 to a\n",
      "continuing\n",
      "a is currently:  8\n",
      "a is still less than 10, adding 1 to a\n",
      "continuing\n",
      "a is currently:  9\n",
      "a is still less than 10, adding 1 to a\n",
      "continuing\n",
      "All done!\n"
     ]
    }
   ],
   "source": [
    "a = 0\n",
    "while a < 10:\n",
    "    print 'a is currently: ', a\n",
    "    print 'a is still less than 10, adding 1 to a'\n",
    "    a += 1\n",
    "    if a == 6:\n",
    "        print 'a == 6'\n",
    "    else:\n",
    "        print 'continuing'\n",
    "        continue\n",
    "else:\n",
    "    print 'All done!'"
   ]
  },
  {
   "cell_type": "code",
   "execution_count": 3,
   "metadata": {
    "collapsed": false
   },
   "outputs": [
    {
     "name": "stdout",
     "output_type": "stream",
     "text": [
      "a is currently:  0\n",
      "a is still less than 10, adding 1 to a\n",
      "continuing\n",
      "a is currently:  1\n",
      "a is still less than 10, adding 1 to a\n",
      "continuing\n",
      "a is currently:  2\n",
      "a is still less than 10, adding 1 to a\n",
      "continuing\n",
      "a is currently:  3\n",
      "a is still less than 10, adding 1 to a\n",
      "continuing\n",
      "a is currently:  4\n",
      "a is still less than 10, adding 1 to a\n",
      "continuing\n",
      "a is currently:  5\n",
      "a is still less than 10, adding 1 to a\n",
      "break because a == 6\n"
     ]
    }
   ],
   "source": [
    "a = 0\n",
    "while a < 10:\n",
    "    print 'a is currently: ', a\n",
    "    print 'a is still less than 10, adding 1 to a'\n",
    "    a += 1\n",
    "    if a == 6:\n",
    "        print 'break because a == 6'\n",
    "        break\n",
    "    else:\n",
    "        print 'continuing'\n",
    "        continue\n",
    "else:\n",
    "    print 'All done!'"
   ]
  }
 ],
 "metadata": {
  "kernelspec": {
   "display_name": "Python 2",
   "language": "python",
   "name": "python2"
  },
  "language_info": {
   "codemirror_mode": {
    "name": "ipython",
    "version": 2
   },
   "file_extension": ".py",
   "mimetype": "text/x-python",
   "name": "python",
   "nbconvert_exporter": "python",
   "pygments_lexer": "ipython2",
   "version": "2.7.6"
  }
 },
 "nbformat": 4,
 "nbformat_minor": 1
}
