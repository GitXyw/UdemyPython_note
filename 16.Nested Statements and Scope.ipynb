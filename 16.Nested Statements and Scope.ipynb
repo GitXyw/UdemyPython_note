{
 "cells": [
  {
   "cell_type": "code",
   "execution_count": 1,
   "metadata": {
    "collapsed": false
   },
   "outputs": [
    {
     "name": "stdout",
     "output_type": "stream",
     "text": [
      "50\n",
      "25\n"
     ]
    }
   ],
   "source": [
    "x = 50\n",
    "\n",
    "def fun():\n",
    "    x = 25\n",
    "    return x\n",
    "print x\n",
    "print fun()"
   ]
  },
  {
   "cell_type": "code",
   "execution_count": 4,
   "metadata": {
    "collapsed": false
   },
   "outputs": [
    {
     "name": "stdout",
     "output_type": "stream",
     "text": [
      "hello Sammy\n",
      "This is a global name\n"
     ]
    }
   ],
   "source": [
    "name = 'This is a global name'    # 全局变量\n",
    "def greet():\n",
    "    name = 'Sammy'                # 局部变量\n",
    "    def hello():\n",
    "        print 'hello ' + name\n",
    "    hello()\n",
    "\n",
    "greet()\n",
    "print name"
   ]
  },
  {
   "cell_type": "markdown",
   "metadata": {},
   "source": [
    "built-in function 内建函数"
   ]
  },
  {
   "cell_type": "code",
   "execution_count": 5,
   "metadata": {
    "collapsed": false
   },
   "outputs": [
    {
     "data": {
      "text/plain": [
       "<function len>"
      ]
     },
     "execution_count": 5,
     "metadata": {},
     "output_type": "execute_result"
    }
   ],
   "source": [
    "len"
   ]
  },
  {
   "cell_type": "code",
   "execution_count": 9,
   "metadata": {
    "collapsed": false
   },
   "outputs": [
    {
     "name": "stdout",
     "output_type": "stream",
     "text": [
      "x is 50\n",
      "Change local x to 20\n",
      "x is still 50\n"
     ]
    }
   ],
   "source": [
    "x = 50\n",
    "def func(x):\n",
    "    print 'x is', x\n",
    "    x = 20\n",
    "    print 'Change local x to', x\n",
    "func(x)\n",
    "print 'x is still', x"
   ]
  },
  {
   "cell_type": "markdown",
   "metadata": {},
   "source": [
    "#### Global Statement"
   ]
  },
  {
   "cell_type": "code",
   "execution_count": 10,
   "metadata": {
    "collapsed": false
   },
   "outputs": [
    {
     "name": "stdout",
     "output_type": "stream",
     "text": [
      "Before calling fu(), x is 20\n",
      "This function is now using global x\n",
      "Because global x is 20\n",
      "Ran fu(), change global x to 2\n",
      "Value of x is 2\n"
     ]
    }
   ],
   "source": [
    "x = 20\n",
    "def fu():\n",
    "    global x\n",
    "    print 'This function is now using global x'\n",
    "    print 'Because global x is', x\n",
    "    x = 2\n",
    "    print 'Ran fu(), change global x to', x\n",
    "print 'Before calling fu(), x is', x\n",
    "fu()\n",
    "print 'Value of x is', x"
   ]
  }
 ],
 "metadata": {
  "kernelspec": {
   "display_name": "Python 2",
   "language": "python",
   "name": "python2"
  },
  "language_info": {
   "codemirror_mode": {
    "name": "ipython",
    "version": 2
   },
   "file_extension": ".py",
   "mimetype": "text/x-python",
   "name": "python",
   "nbconvert_exporter": "python",
   "pygments_lexer": "ipython2",
   "version": "2.7.6"
  }
 },
 "nbformat": 4,
 "nbformat_minor": 1
}
